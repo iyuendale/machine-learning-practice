{
 "cells": [
  {
   "cell_type": "markdown",
   "id": "5c0b05f8-2f02-4146-b4af-f450ddd18d87",
   "metadata": {
    "tags": []
   },
   "source": [
    "#### 4. Evaluating a model"
   ]
  },
  {
   "cell_type": "code",
   "execution_count": 1,
   "id": "85326d5a-df9d-4cb2-b434-e207ccf625f1",
   "metadata": {},
   "outputs": [],
   "source": [
    "%matplotlib inline\n",
    "import matplotlib.pyplot as plt\n",
    "import pandas as pd\n",
    "import numpy as np\n",
    "from sklearn.model_selection import train_test_split"
   ]
  },
  {
   "cell_type": "markdown",
   "id": "461113ae-496a-443f-b3fb-2f56ab3f4c76",
   "metadata": {},
   "source": [
    "3 methods of evaluating models\n",
    "1. `score()` method - returns metric associated with the type of the model used\n",
    "2. `scoring parameters`- passed to methods `cross_val_score()` or `GridSearchCV()` to tell SciKit to use specific type scoring metrics\n",
    "3. `problem specific metric functions`- as standalone functions"
   ]
  },
  {
   "cell_type": "markdown",
   "id": "9c3ff8d7-f2b4-441e-b6a4-dc6a1190fd1e",
   "metadata": {},
   "source": [
    "scoring methods depend on the type of the problem"
   ]
  },
  {
   "cell_type": "markdown",
   "id": "e2e4c774-c048-4f8a-b2fd-0e6d73bccef7",
   "metadata": {},
   "source": [
    "4.1. General model evaluation with `score()`"
   ]
  },
  {
   "cell_type": "code",
   "execution_count": 2,
   "id": "542da8e6-3dfc-4191-a47b-d19115a7f32d",
   "metadata": {},
   "outputs": [
    {
     "data": {
      "text/html": [
       "<div>\n",
       "<style scoped>\n",
       "    .dataframe tbody tr th:only-of-type {\n",
       "        vertical-align: middle;\n",
       "    }\n",
       "\n",
       "    .dataframe tbody tr th {\n",
       "        vertical-align: top;\n",
       "    }\n",
       "\n",
       "    .dataframe thead th {\n",
       "        text-align: right;\n",
       "    }\n",
       "</style>\n",
       "<table border=\"1\" class=\"dataframe\">\n",
       "  <thead>\n",
       "    <tr style=\"text-align: right;\">\n",
       "      <th></th>\n",
       "      <th>age</th>\n",
       "      <th>sex</th>\n",
       "      <th>cp</th>\n",
       "      <th>trestbps</th>\n",
       "      <th>chol</th>\n",
       "      <th>fbs</th>\n",
       "      <th>restecg</th>\n",
       "      <th>thalach</th>\n",
       "      <th>exang</th>\n",
       "      <th>oldpeak</th>\n",
       "      <th>slope</th>\n",
       "      <th>ca</th>\n",
       "      <th>thal</th>\n",
       "      <th>target</th>\n",
       "    </tr>\n",
       "  </thead>\n",
       "  <tbody>\n",
       "    <tr>\n",
       "      <th>0</th>\n",
       "      <td>63</td>\n",
       "      <td>1</td>\n",
       "      <td>3</td>\n",
       "      <td>145</td>\n",
       "      <td>233</td>\n",
       "      <td>1</td>\n",
       "      <td>0</td>\n",
       "      <td>150</td>\n",
       "      <td>0</td>\n",
       "      <td>2.3</td>\n",
       "      <td>0</td>\n",
       "      <td>0</td>\n",
       "      <td>1</td>\n",
       "      <td>1</td>\n",
       "    </tr>\n",
       "    <tr>\n",
       "      <th>1</th>\n",
       "      <td>37</td>\n",
       "      <td>1</td>\n",
       "      <td>2</td>\n",
       "      <td>130</td>\n",
       "      <td>250</td>\n",
       "      <td>0</td>\n",
       "      <td>1</td>\n",
       "      <td>187</td>\n",
       "      <td>0</td>\n",
       "      <td>3.5</td>\n",
       "      <td>0</td>\n",
       "      <td>0</td>\n",
       "      <td>2</td>\n",
       "      <td>1</td>\n",
       "    </tr>\n",
       "    <tr>\n",
       "      <th>2</th>\n",
       "      <td>41</td>\n",
       "      <td>0</td>\n",
       "      <td>1</td>\n",
       "      <td>130</td>\n",
       "      <td>204</td>\n",
       "      <td>0</td>\n",
       "      <td>0</td>\n",
       "      <td>172</td>\n",
       "      <td>0</td>\n",
       "      <td>1.4</td>\n",
       "      <td>2</td>\n",
       "      <td>0</td>\n",
       "      <td>2</td>\n",
       "      <td>1</td>\n",
       "    </tr>\n",
       "    <tr>\n",
       "      <th>3</th>\n",
       "      <td>56</td>\n",
       "      <td>1</td>\n",
       "      <td>1</td>\n",
       "      <td>120</td>\n",
       "      <td>236</td>\n",
       "      <td>0</td>\n",
       "      <td>1</td>\n",
       "      <td>178</td>\n",
       "      <td>0</td>\n",
       "      <td>0.8</td>\n",
       "      <td>2</td>\n",
       "      <td>0</td>\n",
       "      <td>2</td>\n",
       "      <td>1</td>\n",
       "    </tr>\n",
       "    <tr>\n",
       "      <th>4</th>\n",
       "      <td>57</td>\n",
       "      <td>0</td>\n",
       "      <td>0</td>\n",
       "      <td>120</td>\n",
       "      <td>354</td>\n",
       "      <td>0</td>\n",
       "      <td>1</td>\n",
       "      <td>163</td>\n",
       "      <td>1</td>\n",
       "      <td>0.6</td>\n",
       "      <td>2</td>\n",
       "      <td>0</td>\n",
       "      <td>2</td>\n",
       "      <td>1</td>\n",
       "    </tr>\n",
       "    <tr>\n",
       "      <th>...</th>\n",
       "      <td>...</td>\n",
       "      <td>...</td>\n",
       "      <td>...</td>\n",
       "      <td>...</td>\n",
       "      <td>...</td>\n",
       "      <td>...</td>\n",
       "      <td>...</td>\n",
       "      <td>...</td>\n",
       "      <td>...</td>\n",
       "      <td>...</td>\n",
       "      <td>...</td>\n",
       "      <td>...</td>\n",
       "      <td>...</td>\n",
       "      <td>...</td>\n",
       "    </tr>\n",
       "    <tr>\n",
       "      <th>298</th>\n",
       "      <td>57</td>\n",
       "      <td>0</td>\n",
       "      <td>0</td>\n",
       "      <td>140</td>\n",
       "      <td>241</td>\n",
       "      <td>0</td>\n",
       "      <td>1</td>\n",
       "      <td>123</td>\n",
       "      <td>1</td>\n",
       "      <td>0.2</td>\n",
       "      <td>1</td>\n",
       "      <td>0</td>\n",
       "      <td>3</td>\n",
       "      <td>0</td>\n",
       "    </tr>\n",
       "    <tr>\n",
       "      <th>299</th>\n",
       "      <td>45</td>\n",
       "      <td>1</td>\n",
       "      <td>3</td>\n",
       "      <td>110</td>\n",
       "      <td>264</td>\n",
       "      <td>0</td>\n",
       "      <td>1</td>\n",
       "      <td>132</td>\n",
       "      <td>0</td>\n",
       "      <td>1.2</td>\n",
       "      <td>1</td>\n",
       "      <td>0</td>\n",
       "      <td>3</td>\n",
       "      <td>0</td>\n",
       "    </tr>\n",
       "    <tr>\n",
       "      <th>300</th>\n",
       "      <td>68</td>\n",
       "      <td>1</td>\n",
       "      <td>0</td>\n",
       "      <td>144</td>\n",
       "      <td>193</td>\n",
       "      <td>1</td>\n",
       "      <td>1</td>\n",
       "      <td>141</td>\n",
       "      <td>0</td>\n",
       "      <td>3.4</td>\n",
       "      <td>1</td>\n",
       "      <td>2</td>\n",
       "      <td>3</td>\n",
       "      <td>0</td>\n",
       "    </tr>\n",
       "    <tr>\n",
       "      <th>301</th>\n",
       "      <td>57</td>\n",
       "      <td>1</td>\n",
       "      <td>0</td>\n",
       "      <td>130</td>\n",
       "      <td>131</td>\n",
       "      <td>0</td>\n",
       "      <td>1</td>\n",
       "      <td>115</td>\n",
       "      <td>1</td>\n",
       "      <td>1.2</td>\n",
       "      <td>1</td>\n",
       "      <td>1</td>\n",
       "      <td>3</td>\n",
       "      <td>0</td>\n",
       "    </tr>\n",
       "    <tr>\n",
       "      <th>302</th>\n",
       "      <td>57</td>\n",
       "      <td>0</td>\n",
       "      <td>1</td>\n",
       "      <td>130</td>\n",
       "      <td>236</td>\n",
       "      <td>0</td>\n",
       "      <td>0</td>\n",
       "      <td>174</td>\n",
       "      <td>0</td>\n",
       "      <td>0.0</td>\n",
       "      <td>1</td>\n",
       "      <td>1</td>\n",
       "      <td>2</td>\n",
       "      <td>0</td>\n",
       "    </tr>\n",
       "  </tbody>\n",
       "</table>\n",
       "<p>303 rows × 14 columns</p>\n",
       "</div>"
      ],
      "text/plain": [
       "     age  sex  cp  trestbps  chol  fbs  restecg  thalach  exang  oldpeak  \\\n",
       "0     63    1   3       145   233    1        0      150      0      2.3   \n",
       "1     37    1   2       130   250    0        1      187      0      3.5   \n",
       "2     41    0   1       130   204    0        0      172      0      1.4   \n",
       "3     56    1   1       120   236    0        1      178      0      0.8   \n",
       "4     57    0   0       120   354    0        1      163      1      0.6   \n",
       "..   ...  ...  ..       ...   ...  ...      ...      ...    ...      ...   \n",
       "298   57    0   0       140   241    0        1      123      1      0.2   \n",
       "299   45    1   3       110   264    0        1      132      0      1.2   \n",
       "300   68    1   0       144   193    1        1      141      0      3.4   \n",
       "301   57    1   0       130   131    0        1      115      1      1.2   \n",
       "302   57    0   1       130   236    0        0      174      0      0.0   \n",
       "\n",
       "     slope  ca  thal  target  \n",
       "0        0   0     1       1  \n",
       "1        0   0     2       1  \n",
       "2        2   0     2       1  \n",
       "3        2   0     2       1  \n",
       "4        2   0     2       1  \n",
       "..     ...  ..   ...     ...  \n",
       "298      1   0     3       0  \n",
       "299      1   0     3       0  \n",
       "300      1   2     3       0  \n",
       "301      1   1     3       0  \n",
       "302      1   1     2       0  \n",
       "\n",
       "[303 rows x 14 columns]"
      ]
     },
     "execution_count": 2,
     "metadata": {},
     "output_type": "execute_result"
    }
   ],
   "source": [
    "# import heart-disease.csv\n",
    "hd= pd.read_csv(\"heart-disease.csv\")\n",
    "hd"
   ]
  },
  {
   "cell_type": "code",
   "execution_count": 3,
   "id": "dc2e7124-0106-418c-be94-2bb732ed91b8",
   "metadata": {},
   "outputs": [
    {
     "data": {
      "text/plain": [
       "0.8524590163934426"
      ]
     },
     "execution_count": 3,
     "metadata": {},
     "output_type": "execute_result"
    }
   ],
   "source": [
    "from sklearn.ensemble import RandomForestClassifier\n",
    "np.random.seed(42)\n",
    "X= hd.drop(\"target\", axis= 1)\n",
    "y= hd[\"target\"]\n",
    "\n",
    "X_train, X_test, y_train, y_test= train_test_split(X, y, test_size= 0.2)\n",
    "\n",
    "clf= RandomForestClassifier()\n",
    "clf.fit(X_train, y_train)\n",
    "clf.score(X_test, y_test)\n",
    "# beacuse of the classifier problem, `score()` uses mean accuracy method\n",
    "# to find this, press `SHIFT+TAB`"
   ]
  },
  {
   "cell_type": "code",
   "execution_count": 4,
   "id": "818f4af6-5034-4ed7-a648-55c0303650d3",
   "metadata": {},
   "outputs": [
    {
     "data": {
      "text/plain": [
       "{'data': array([[   8.3252    ,   41.        ,    6.98412698, ...,    2.55555556,\n",
       "           37.88      , -122.23      ],\n",
       "        [   8.3014    ,   21.        ,    6.23813708, ...,    2.10984183,\n",
       "           37.86      , -122.22      ],\n",
       "        [   7.2574    ,   52.        ,    8.28813559, ...,    2.80225989,\n",
       "           37.85      , -122.24      ],\n",
       "        ...,\n",
       "        [   1.7       ,   17.        ,    5.20554273, ...,    2.3256351 ,\n",
       "           39.43      , -121.22      ],\n",
       "        [   1.8672    ,   18.        ,    5.32951289, ...,    2.12320917,\n",
       "           39.43      , -121.32      ],\n",
       "        [   2.3886    ,   16.        ,    5.25471698, ...,    2.61698113,\n",
       "           39.37      , -121.24      ]]),\n",
       " 'target': array([4.526, 3.585, 3.521, ..., 0.923, 0.847, 0.894]),\n",
       " 'frame': None,\n",
       " 'target_names': ['MedHouseVal'],\n",
       " 'feature_names': ['MedInc',\n",
       "  'HouseAge',\n",
       "  'AveRooms',\n",
       "  'AveBedrms',\n",
       "  'Population',\n",
       "  'AveOccup',\n",
       "  'Latitude',\n",
       "  'Longitude'],\n",
       " 'DESCR': '.. _california_housing_dataset:\\n\\nCalifornia Housing dataset\\n--------------------------\\n\\n**Data Set Characteristics:**\\n\\n    :Number of Instances: 20640\\n\\n    :Number of Attributes: 8 numeric, predictive attributes and the target\\n\\n    :Attribute Information:\\n        - MedInc        median income in block group\\n        - HouseAge      median house age in block group\\n        - AveRooms      average number of rooms per household\\n        - AveBedrms     average number of bedrooms per household\\n        - Population    block group population\\n        - AveOccup      average number of household members\\n        - Latitude      block group latitude\\n        - Longitude     block group longitude\\n\\n    :Missing Attribute Values: None\\n\\nThis dataset was obtained from the StatLib repository.\\nhttps://www.dcc.fc.up.pt/~ltorgo/Regression/cal_housing.html\\n\\nThe target variable is the median house value for California districts,\\nexpressed in hundreds of thousands of dollars ($100,000).\\n\\nThis dataset was derived from the 1990 U.S. census, using one row per census\\nblock group. A block group is the smallest geographical unit for which the U.S.\\nCensus Bureau publishes sample data (a block group typically has a population\\nof 600 to 3,000 people).\\n\\nAn household is a group of people residing within a home. Since the average\\nnumber of rooms and bedrooms in this dataset are provided per household, these\\ncolumns may take surpinsingly large values for block groups with few households\\nand many empty houses, such as vacation resorts.\\n\\nIt can be downloaded/loaded using the\\n:func:`sklearn.datasets.fetch_california_housing` function.\\n\\n.. topic:: References\\n\\n    - Pace, R. Kelley and Ronald Barry, Sparse Spatial Autoregressions,\\n      Statistics and Probability Letters, 33 (1997) 291-297\\n'}"
      ]
     },
     "execution_count": 4,
     "metadata": {},
     "output_type": "execute_result"
    }
   ],
   "source": [
    "# import calfifornia-housing dataset\n",
    "from sklearn.datasets import fetch_california_housing\n",
    "housing = fetch_california_housing()\n",
    "housing"
   ]
  },
  {
   "cell_type": "code",
   "execution_count": 5,
   "id": "58757377-c7bf-41e8-880a-1b126200ae80",
   "metadata": {},
   "outputs": [
    {
     "data": {
      "text/html": [
       "<div>\n",
       "<style scoped>\n",
       "    .dataframe tbody tr th:only-of-type {\n",
       "        vertical-align: middle;\n",
       "    }\n",
       "\n",
       "    .dataframe tbody tr th {\n",
       "        vertical-align: top;\n",
       "    }\n",
       "\n",
       "    .dataframe thead th {\n",
       "        text-align: right;\n",
       "    }\n",
       "</style>\n",
       "<table border=\"1\" class=\"dataframe\">\n",
       "  <thead>\n",
       "    <tr style=\"text-align: right;\">\n",
       "      <th></th>\n",
       "      <th>MedInc</th>\n",
       "      <th>HouseAge</th>\n",
       "      <th>AveRooms</th>\n",
       "      <th>AveBedrms</th>\n",
       "      <th>Population</th>\n",
       "      <th>AveOccup</th>\n",
       "      <th>Latitude</th>\n",
       "      <th>Longitude</th>\n",
       "      <th>target</th>\n",
       "    </tr>\n",
       "  </thead>\n",
       "  <tbody>\n",
       "    <tr>\n",
       "      <th>0</th>\n",
       "      <td>8.3252</td>\n",
       "      <td>41.0</td>\n",
       "      <td>6.984127</td>\n",
       "      <td>1.023810</td>\n",
       "      <td>322.0</td>\n",
       "      <td>2.555556</td>\n",
       "      <td>37.88</td>\n",
       "      <td>-122.23</td>\n",
       "      <td>4.526</td>\n",
       "    </tr>\n",
       "    <tr>\n",
       "      <th>1</th>\n",
       "      <td>8.3014</td>\n",
       "      <td>21.0</td>\n",
       "      <td>6.238137</td>\n",
       "      <td>0.971880</td>\n",
       "      <td>2401.0</td>\n",
       "      <td>2.109842</td>\n",
       "      <td>37.86</td>\n",
       "      <td>-122.22</td>\n",
       "      <td>3.585</td>\n",
       "    </tr>\n",
       "    <tr>\n",
       "      <th>2</th>\n",
       "      <td>7.2574</td>\n",
       "      <td>52.0</td>\n",
       "      <td>8.288136</td>\n",
       "      <td>1.073446</td>\n",
       "      <td>496.0</td>\n",
       "      <td>2.802260</td>\n",
       "      <td>37.85</td>\n",
       "      <td>-122.24</td>\n",
       "      <td>3.521</td>\n",
       "    </tr>\n",
       "    <tr>\n",
       "      <th>3</th>\n",
       "      <td>5.6431</td>\n",
       "      <td>52.0</td>\n",
       "      <td>5.817352</td>\n",
       "      <td>1.073059</td>\n",
       "      <td>558.0</td>\n",
       "      <td>2.547945</td>\n",
       "      <td>37.85</td>\n",
       "      <td>-122.25</td>\n",
       "      <td>3.413</td>\n",
       "    </tr>\n",
       "    <tr>\n",
       "      <th>4</th>\n",
       "      <td>3.8462</td>\n",
       "      <td>52.0</td>\n",
       "      <td>6.281853</td>\n",
       "      <td>1.081081</td>\n",
       "      <td>565.0</td>\n",
       "      <td>2.181467</td>\n",
       "      <td>37.85</td>\n",
       "      <td>-122.25</td>\n",
       "      <td>3.422</td>\n",
       "    </tr>\n",
       "    <tr>\n",
       "      <th>...</th>\n",
       "      <td>...</td>\n",
       "      <td>...</td>\n",
       "      <td>...</td>\n",
       "      <td>...</td>\n",
       "      <td>...</td>\n",
       "      <td>...</td>\n",
       "      <td>...</td>\n",
       "      <td>...</td>\n",
       "      <td>...</td>\n",
       "    </tr>\n",
       "    <tr>\n",
       "      <th>20635</th>\n",
       "      <td>1.5603</td>\n",
       "      <td>25.0</td>\n",
       "      <td>5.045455</td>\n",
       "      <td>1.133333</td>\n",
       "      <td>845.0</td>\n",
       "      <td>2.560606</td>\n",
       "      <td>39.48</td>\n",
       "      <td>-121.09</td>\n",
       "      <td>0.781</td>\n",
       "    </tr>\n",
       "    <tr>\n",
       "      <th>20636</th>\n",
       "      <td>2.5568</td>\n",
       "      <td>18.0</td>\n",
       "      <td>6.114035</td>\n",
       "      <td>1.315789</td>\n",
       "      <td>356.0</td>\n",
       "      <td>3.122807</td>\n",
       "      <td>39.49</td>\n",
       "      <td>-121.21</td>\n",
       "      <td>0.771</td>\n",
       "    </tr>\n",
       "    <tr>\n",
       "      <th>20637</th>\n",
       "      <td>1.7000</td>\n",
       "      <td>17.0</td>\n",
       "      <td>5.205543</td>\n",
       "      <td>1.120092</td>\n",
       "      <td>1007.0</td>\n",
       "      <td>2.325635</td>\n",
       "      <td>39.43</td>\n",
       "      <td>-121.22</td>\n",
       "      <td>0.923</td>\n",
       "    </tr>\n",
       "    <tr>\n",
       "      <th>20638</th>\n",
       "      <td>1.8672</td>\n",
       "      <td>18.0</td>\n",
       "      <td>5.329513</td>\n",
       "      <td>1.171920</td>\n",
       "      <td>741.0</td>\n",
       "      <td>2.123209</td>\n",
       "      <td>39.43</td>\n",
       "      <td>-121.32</td>\n",
       "      <td>0.847</td>\n",
       "    </tr>\n",
       "    <tr>\n",
       "      <th>20639</th>\n",
       "      <td>2.3886</td>\n",
       "      <td>16.0</td>\n",
       "      <td>5.254717</td>\n",
       "      <td>1.162264</td>\n",
       "      <td>1387.0</td>\n",
       "      <td>2.616981</td>\n",
       "      <td>39.37</td>\n",
       "      <td>-121.24</td>\n",
       "      <td>0.894</td>\n",
       "    </tr>\n",
       "  </tbody>\n",
       "</table>\n",
       "<p>20640 rows × 9 columns</p>\n",
       "</div>"
      ],
      "text/plain": [
       "       MedInc  HouseAge  AveRooms  AveBedrms  Population  AveOccup  Latitude  \\\n",
       "0      8.3252      41.0  6.984127   1.023810       322.0  2.555556     37.88   \n",
       "1      8.3014      21.0  6.238137   0.971880      2401.0  2.109842     37.86   \n",
       "2      7.2574      52.0  8.288136   1.073446       496.0  2.802260     37.85   \n",
       "3      5.6431      52.0  5.817352   1.073059       558.0  2.547945     37.85   \n",
       "4      3.8462      52.0  6.281853   1.081081       565.0  2.181467     37.85   \n",
       "...       ...       ...       ...        ...         ...       ...       ...   \n",
       "20635  1.5603      25.0  5.045455   1.133333       845.0  2.560606     39.48   \n",
       "20636  2.5568      18.0  6.114035   1.315789       356.0  3.122807     39.49   \n",
       "20637  1.7000      17.0  5.205543   1.120092      1007.0  2.325635     39.43   \n",
       "20638  1.8672      18.0  5.329513   1.171920       741.0  2.123209     39.43   \n",
       "20639  2.3886      16.0  5.254717   1.162264      1387.0  2.616981     39.37   \n",
       "\n",
       "       Longitude  target  \n",
       "0        -122.23   4.526  \n",
       "1        -122.22   3.585  \n",
       "2        -122.24   3.521  \n",
       "3        -122.25   3.413  \n",
       "4        -122.25   3.422  \n",
       "...          ...     ...  \n",
       "20635    -121.09   0.781  \n",
       "20636    -121.21   0.771  \n",
       "20637    -121.22   0.923  \n",
       "20638    -121.32   0.847  \n",
       "20639    -121.24   0.894  \n",
       "\n",
       "[20640 rows x 9 columns]"
      ]
     },
     "execution_count": 5,
     "metadata": {},
     "output_type": "execute_result"
    }
   ],
   "source": [
    "h_df= pd.DataFrame(housing[\"data\"], columns= housing[\"feature_names\"])\n",
    "h_df[\"target\"]= housing[\"target\"]\n",
    "h_df"
   ]
  },
  {
   "cell_type": "code",
   "execution_count": 6,
   "id": "ada225a4-cb37-452e-b12c-1e3419531b25",
   "metadata": {},
   "outputs": [
    {
     "data": {
      "text/plain": [
       "0.8065734772187598"
      ]
     },
     "execution_count": 6,
     "metadata": {},
     "output_type": "execute_result"
    }
   ],
   "source": [
    "from sklearn.ensemble import RandomForestRegressor\n",
    "\n",
    "np.random.seed(42)\n",
    "X= h_df.drop(\"target\", axis= 1)\n",
    "y= h_df[\"target\"]\n",
    "\n",
    "X_train, X_test, y_train, y_test= train_test_split(X, y, test_size= 0.2)\n",
    "\n",
    "model= RandomForestRegressor()\n",
    "model.fit(X_train, y_train)\n",
    "\n",
    "model.score(X_test, y_test)\n",
    "# `score()` returns the coefficient of determination of the prediction"
   ]
  },
  {
   "cell_type": "markdown",
   "id": "f3d495e3-6bb5-4c24-9cf7-b082bfd38144",
   "metadata": {},
   "source": [
    "4.2. Evaluating model with _`scoring parameter`_"
   ]
  },
  {
   "cell_type": "markdown",
   "id": "8737c808-442f-4f7e-bcb4-ed5fc00dec64",
   "metadata": {},
   "source": [
    "_i_- `cross_val_score()`"
   ]
  },
  {
   "cell_type": "code",
   "execution_count": 7,
   "id": "c3b2f06f-7cb7-43f6-9d7d-4d70bced9203",
   "metadata": {},
   "outputs": [
    {
     "name": "stdout",
     "output_type": "stream",
     "text": [
      "score(): 0.8524590163934426\n",
      "cross_val_score():  [0.81967213 0.86885246 0.81967213 0.78333333 0.76666667]\n"
     ]
    }
   ],
   "source": [
    "from sklearn.model_selection import cross_val_score\n",
    "from sklearn.ensemble import RandomForestClassifier\n",
    "\n",
    "np.random.seed(42)\n",
    "X= hd.drop(\"target\", axis= 1)\n",
    "y= hd[\"target\"]\n",
    "\n",
    "X_train, X_test,y_train, y_test= train_test_split(X, y, test_size= 0.2)\n",
    "\n",
    "clf= RandomForestClassifier()\n",
    "clf.fit(X_train, y_train)\n",
    "print(\"score():\", clf.score(X_test, y_test))\n",
    "print(\"cross_val_score(): \", cross_val_score(clf, X, y))"
   ]
  },
  {
   "cell_type": "markdown",
   "id": "50e84885-f695-4b4f-b48d-4e88b551def7",
   "metadata": {},
   "source": [
    "`score()` returns a single number.\n",
    "`cross_val_score()` returns array because of a parameter called `cv`,stands for cross-validation.\n",
    "When cv is not set, default `5` is used for size of `cross_val_score()` array.\n",
    "`cross-validation` gives solution to _not training on all the data_ & _avoiding getting lucky scores on single splits of the data._"
   ]
  },
  {
   "cell_type": "code",
   "execution_count": 8,
   "id": "c5425dc5-d1d5-4a4c-a311-2f7ad9c0b15d",
   "metadata": {},
   "outputs": [
    {
     "data": {
      "text/plain": [
       "(0.8524590163934426, 0.8248087431693989)"
      ]
     },
     "execution_count": 8,
     "metadata": {},
     "output_type": "execute_result"
    }
   ],
   "source": [
    "cross_val_score(clf, X, y, cv= 5)  # 5 fold corss-validation\n",
    "\n",
    "np.random.seed(42)\n",
    "# single training and test split score\n",
    "clf_single_score= clf.score(X_test, y_test)\n",
    "# take mean of 5-fold cross-validation\n",
    "clf_cross_val_score= np.mean(cross_val_score(clf, X, y, cv= 5))\n",
    "clf_single_score, clf_cross_val_score\n",
    "# mean of corss-validation is less than single score\n",
    "# for the accuracy of a model, use cross-validation"
   ]
  },
  {
   "cell_type": "markdown",
   "id": "b5b9b6bb-4f69-423e-aee2-a2c3d4de1ffb",
   "metadata": {},
   "source": [
    "By default the scoring parameter is set to `None`."
   ]
  },
  {
   "cell_type": "code",
   "execution_count": 9,
   "id": "a22afd0a-6324-4907-8582-b1aadd9018a4",
   "metadata": {},
   "outputs": [
    {
     "data": {
      "text/plain": [
       "array([0.78688525, 0.86885246, 0.80327869, 0.78333333, 0.76666667])"
      ]
     },
     "execution_count": 9,
     "metadata": {},
     "output_type": "execute_result"
    }
   ],
   "source": [
    "cross_val_score(clf, X, y, cv= 5, scoring= None) # default"
   ]
  },
  {
   "cell_type": "markdown",
   "id": "8fa4b246-6b42-4c20-8d03-2c86663f3e39",
   "metadata": {},
   "source": [
    "When default is used, cross-validation uses same metric as score() for whatever model type.\n",
    "for this example mean accuracy is used as default."
   ]
  },
  {
   "cell_type": "markdown",
   "id": "49ec2eaf-85b0-4a95-bdac-0f81e93a7bd1",
   "metadata": {},
   "source": [
    "##### 4.2.1. Classification model evaluation metrics\n",
    "Four main evaluation metrics/methods:\n",
    "- accuracy\n",
    "- area under ROC curve\n",
    "- confusion matrix\n",
    "- classification report"
   ]
  },
  {
   "cell_type": "code",
   "execution_count": 10,
   "id": "bb0f7293-dd3f-4953-8549-10d21b374aeb",
   "metadata": {},
   "outputs": [
    {
     "data": {
      "text/plain": [
       "0.8524590163934426"
      ]
     },
     "execution_count": 10,
     "metadata": {},
     "output_type": "execute_result"
    }
   ],
   "source": [
    "from sklearn.model_selection import cross_val_score\n",
    "from sklearn.ensemble import RandomForestClassifier\n",
    "\n",
    "np.random.seed(42)\n",
    "X = hd.drop(\"target\", axis= 1)\n",
    "y= hd[\"target\"]\n",
    "\n",
    "X_train, X_test, y_train, y_test= train_test_split(X, y, test_size= 0.2)\n",
    "\n",
    "clf= RandomForestClassifier()\n",
    "clf.fit(X_train, y_train)\n",
    "clf.score(X_test, y_test)"
   ]
  },
  {
   "cell_type": "markdown",
   "id": "7747e754-e405-4d45-8ecd-bf21fc022fc2",
   "metadata": {},
   "source": [
    "##### Accuracy\n",
    "default & most used metric for score() within each scikit-learn classifier models\n",
    "but not always the best method to use. \n",
    "Scikit-Learn return accuracy as decimal, but possible to convert to percentage."
   ]
  },
  {
   "cell_type": "code",
   "execution_count": 11,
   "id": "c6ebe7c3-809d-4f87-9c4f-950a7f7f72df",
   "metadata": {},
   "outputs": [
    {
     "name": "stdout",
     "output_type": "stream",
     "text": [
      "Heart disease classifier accuracy: 85.25%\n"
     ]
    }
   ],
   "source": [
    "# Accuracy as percentage\n",
    "print(f\"Heart disease classifier accuracy: {clf.score(X_test, y_test)*100:.2f}%\")"
   ]
  },
  {
   "cell_type": "markdown",
   "id": "04ae022d-5a57-47c9-aa95-b5e581e8db39",
   "metadata": {},
   "source": [
    "##### Area under Receiver Operating Characteristic (ROC) curve\n",
    "comparison of true positive rate (tpr) versus false positive rate (fpr).\n",
    "\n",
    "For clarity:\n",
    "- true positive= model predicts 1 when truth is 1\n",
    "- false positive= model predicts 1 when truth is 0\n",
    "- true negative= model predicts 0 when truth is 0\n",
    "- false negative= model predicts 0 when truth is 1"
   ]
  },
  {
   "cell_type": "code",
   "execution_count": 12,
   "id": "83c9aa77-ceea-428b-8f9c-f500b477924c",
   "metadata": {},
   "outputs": [
    {
     "data": {
      "text/plain": [
       "(array([0.        , 0.        , 0.        , 0.        , 0.        ,\n",
       "        0.03448276, 0.03448276, 0.03448276, 0.03448276, 0.06896552,\n",
       "        0.06896552, 0.10344828, 0.13793103, 0.13793103, 0.17241379,\n",
       "        0.17241379, 0.27586207, 0.4137931 , 0.48275862, 0.55172414,\n",
       "        0.65517241, 0.72413793, 0.72413793, 0.82758621, 1.        ]),\n",
       " array([0.     , 0.03125, 0.09375, 0.375  , 0.4375 , 0.4375 , 0.46875,\n",
       "        0.59375, 0.6875 , 0.6875 , 0.71875, 0.75   , 0.75   , 0.875  ,\n",
       "        0.875  , 0.96875, 0.96875, 0.96875, 0.96875, 0.96875, 0.96875,\n",
       "        0.96875, 1.     , 1.     , 1.     ]))"
      ]
     },
     "execution_count": 12,
     "metadata": {},
     "output_type": "execute_result"
    }
   ],
   "source": [
    "from sklearn.metrics import roc_curve\n",
    "# make predictions with probabilities\n",
    "y_probs= clf.predict_proba(X_test)\n",
    "# keep prbabilities of positive class only\n",
    "y_probs= y_probs[:, 1]   # probability of column of predictions of 1\n",
    "# calculate fpr, tpr and thresholds\n",
    "fpr, tpr, thresholds= roc_curve(y_test, y_probs)\n",
    "# check false positive rate\n",
    "fpr, tpr"
   ]
  },
  {
   "cell_type": "code",
   "execution_count": 13,
   "id": "ae56b85a-eaf6-4d95-98d5-6f7e35d34094",
   "metadata": {},
   "outputs": [
    {
     "data": {
      "image/png": "[encoded data removed]",
      "text/plain": [
       "<Figure size 432x288 with 1 Axes>"
      ]
     },
     "metadata": {
      "needs_background": "light"
     },
     "output_type": "display_data"
    }
   ],
   "source": [
    "# define a function to plot roc_curve\n",
    "def plot_roc_curve(fpr, tpr):\n",
    "    \"\"\"\n",
    "    Plots a ROC curve given fpr and tpr of a classifier\n",
    "    \"\"\"\n",
    "    # plot ROC curve\n",
    "    plt.plot(fpr, tpr, color= 'orange', label= 'ROC')\n",
    "    # plot line with no predictive power (baselinne)\n",
    "    plt.plot([0,1], [0,1], color= 'darkblue', linestyle= '--', label= 'Guessing')\n",
    "    # customize the plot\n",
    "    plt.xlabel('False positive rate')\n",
    "    plt.ylabel('True positive rate')\n",
    "    plt.title('Receiver Operating Characteristic(ROC) curve')\n",
    "    plt.legend()\n",
    "    plt.show()\n",
    "    \n",
    "plot_roc_curve(fpr, tpr)"
   ]
  },
  {
   "cell_type": "markdown",
   "id": "a491a08b-1e33-45bb-b8e9-29c251d1a6f5",
   "metadata": {},
   "source": [
    "The model is far better than guessing.\n",
    "\n",
    "AUC(Area Under Curve) = a metric used to quantify the ROC curve in a single number."
   ]
  },
  {
   "cell_type": "code",
   "execution_count": 14,
   "id": "097d461f-2cc1-4f15-bcfd-747501845ab1",
   "metadata": {},
   "outputs": [
    {
     "data": {
      "text/plain": [
       "0.9304956896551724"
      ]
     },
     "execution_count": 14,
     "metadata": {},
     "output_type": "execute_result"
    }
   ],
   "source": [
    "from sklearn.metrics import roc_auc_score\n",
    "roc_auc_score(y_test, y_probs)"
   ]
  },
  {
   "cell_type": "markdown",
   "id": "3b1e4981-cb6f-4d8e-9293-da4b19658809",
   "metadata": {},
   "source": [
    "The most ideal position for ROC curve is to run along the top left corner of the plot. i.e., the model predicts only true positives and no false positives. And result in a ROC AUC score of 1.0. To check this, use y_test as y_probs. But in reality, perfect ROC is unlikely."
   ]
  },
  {
   "cell_type": "code",
   "execution_count": 15,
   "id": "f9ab7e89-49ff-49f5-a976-64b280857e57",
   "metadata": {},
   "outputs": [
    {
     "data": {
      "image/png": "[encoded data removed]",
      "text/plain": [
       "<Figure size 432x288 with 1 Axes>"
      ]
     },
     "metadata": {
      "needs_background": "light"
     },
     "output_type": "display_data"
    }
   ],
   "source": [
    "# Plot perfect ROC curve\n",
    "fpr, tpr, thresholds= roc_curve(y_test, y_test)\n",
    "plot_roc_curve(fpr, tpr)"
   ]
  },
  {
   "cell_type": "code",
   "execution_count": 16,
   "id": "6a80de32-08ea-4de8-81db-731555017c7f",
   "metadata": {},
   "outputs": [
    {
     "data": {
      "text/plain": [
       "1.0"
      ]
     },
     "execution_count": 16,
     "metadata": {},
     "output_type": "execute_result"
    }
   ],
   "source": [
    "# Perfect ROC AUC score\n",
    "roc_auc_score(y_test, y_test)"
   ]
  },
  {
   "cell_type": "markdown",
   "id": "4538c052-e8ee-4d69-974c-e967e78797e9",
   "metadata": {},
   "source": [
    "##### Confusion matrix\n",
    "a quick way to compare the predicted model labels to the actual model labels. This gives an idea where the model is getting confused."
   ]
  },
  {
   "cell_type": "code",
   "execution_count": 17,
   "id": "aafb7dba-699a-446d-a879-2dffbec2fbec",
   "metadata": {},
   "outputs": [
    {
     "data": {
      "text/plain": [
       "array([[24,  5],\n",
       "       [ 4, 28]], dtype=int64)"
      ]
     },
     "execution_count": 17,
     "metadata": {},
     "output_type": "execute_result"
    }
   ],
   "source": [
    "from sklearn.metrics import confusion_matrix\n",
    "y_preds= clf.predict(X_test)\n",
    "confusion_matrix(y_test, y_preds)"
   ]
  },
  {
   "cell_type": "markdown",
   "id": "eb0d3d08-1f73-4b3e-91f8-37a9eba137c9",
   "metadata": {},
   "source": [
    "To visualize this, use `pd.crosstab()`"
   ]
  },
  {
   "cell_type": "code",
   "execution_count": 18,
   "id": "f5e76de3-ef11-48fe-a192-2a0637a2e0e4",
   "metadata": {},
   "outputs": [
    {
     "data": {
      "text/html": [
       "<div>\n",
       "<style scoped>\n",
       "    .dataframe tbody tr th:only-of-type {\n",
       "        vertical-align: middle;\n",
       "    }\n",
       "\n",
       "    .dataframe tbody tr th {\n",
       "        vertical-align: top;\n",
       "    }\n",
       "\n",
       "    .dataframe thead th {\n",
       "        text-align: right;\n",
       "    }\n",
       "</style>\n",
       "<table border=\"1\" class=\"dataframe\">\n",
       "  <thead>\n",
       "    <tr style=\"text-align: right;\">\n",
       "      <th>Predicted Labels</th>\n",
       "      <th>0</th>\n",
       "      <th>1</th>\n",
       "    </tr>\n",
       "    <tr>\n",
       "      <th>Actual Labels</th>\n",
       "      <th></th>\n",
       "      <th></th>\n",
       "    </tr>\n",
       "  </thead>\n",
       "  <tbody>\n",
       "    <tr>\n",
       "      <th>0</th>\n",
       "      <td>24</td>\n",
       "      <td>5</td>\n",
       "    </tr>\n",
       "    <tr>\n",
       "      <th>1</th>\n",
       "      <td>4</td>\n",
       "      <td>28</td>\n",
       "    </tr>\n",
       "  </tbody>\n",
       "</table>\n",
       "</div>"
      ],
      "text/plain": [
       "Predicted Labels   0   1\n",
       "Actual Labels           \n",
       "0                 24   5\n",
       "1                  4  28"
      ]
     },
     "execution_count": 18,
     "metadata": {},
     "output_type": "execute_result"
    }
   ],
   "source": [
    "pd.crosstab(y_test, y_preds, \n",
    "           rownames= [\"Actual Labels\"],\n",
    "           colnames= [\"Predicted Labels\"])"
   ]
  },
  {
   "cell_type": "code",
   "execution_count": 19,
   "id": "bf26b9a4-aa0d-482e-a116-599d938a7d82",
   "metadata": {},
   "outputs": [
    {
     "data": {
      "text/plain": [
       "(61, 61)"
      ]
     },
     "execution_count": 19,
     "metadata": {},
     "output_type": "execute_result"
    }
   ],
   "source": [
    "y_test.size, y_preds.size"
   ]
  },
  {
   "cell_type": "markdown",
   "id": "018371d8-70a7-49d0-921e-016ef6d02fdb",
   "metadata": {},
   "source": [
    "Creating _confussion matrix_ using Scikit-Learn\n",
    "1. `sklearn.metrics.ConfusionMatrixDisplay.from_estimator(estimator, X, y)`: takes fitted estimator, features and labels. it uses traind estimator to predict on X and compares it to y by displaying a confussion matrix.\n",
    "2. `sklearn.metrics.ConfusionMatrixDisplay.from_predictions(y_true, y_pred)`: takes truth and predicted labels and compares them by displaying a confussion matrix"
   ]
  },
  {
   "cell_type": "code",
   "execution_count": 20,
   "id": "5272df91-fb7e-4a10-9c7a-c65bf1ef0546",
   "metadata": {},
   "outputs": [
    {
     "data": {
      "text/plain": [
       "<sklearn.metrics._plot.confusion_matrix.ConfusionMatrixDisplay at 0x2e7b02ebd00>"
      ]
     },
     "execution_count": 20,
     "metadata": {},
     "output_type": "execute_result"
    },
    {
     "data": {
      "image/png": "[encoded data removed]",
      "text/plain": [
       "<Figure size 432x288 with 2 Axes>"
      ]
     },
     "metadata": {
      "needs_background": "light"
     },
     "output_type": "display_data"
    }
   ],
   "source": [
    "from sklearn.metrics import ConfusionMatrixDisplay\n",
    "ConfusionMatrixDisplay.from_estimator(clf, X, y)"
   ]
  },
  {
   "cell_type": "code",
   "execution_count": 21,
   "id": "d09224ec-0e22-424e-945a-9c6af6823075",
   "metadata": {},
   "outputs": [
    {
     "data": {
      "text/plain": [
       "<sklearn.metrics._plot.confusion_matrix.ConfusionMatrixDisplay at 0x2e7b03191c0>"
      ]
     },
     "execution_count": 21,
     "metadata": {},
     "output_type": "execute_result"
    },
    {
     "data": {
      "image/png": "[encoded data removed]",
      "text/plain": [
       "<Figure size 432x288 with 2 Axes>"
      ]
     },
     "metadata": {
      "needs_background": "light"
     },
     "output_type": "display_data"
    }
   ],
   "source": [
    "ConfusionMatrixDisplay.from_predictions(y_test, y_preds)"
   ]
  },
  {
   "cell_type": "markdown",
   "id": "1314136b-87bc-4c9c-b564-c2f4e19a2931",
   "metadata": {},
   "source": [
    "##### Classification Report\n",
    "a collection of metrics rather than a single one."
   ]
  },
  {
   "cell_type": "code",
   "execution_count": 22,
   "id": "38acf2ba-4aa0-4455-8b15-1060c512d804",
   "metadata": {},
   "outputs": [
    {
     "name": "stdout",
     "output_type": "stream",
     "text": [
      "              precision    recall  f1-score   support\n",
      "\n",
      "           0       0.86      0.83      0.84        29\n",
      "           1       0.85      0.88      0.86        32\n",
      "\n",
      "    accuracy                           0.85        61\n",
      "   macro avg       0.85      0.85      0.85        61\n",
      "weighted avg       0.85      0.85      0.85        61\n",
      "\n"
     ]
    }
   ],
   "source": [
    "from sklearn.metrics import classification_report\n",
    "print(classification_report(y_test, y_preds))"
   ]
  },
  {
   "cell_type": "markdown",
   "id": "bfb40804-7f94-4530-9f88-8a175fee6ea2",
   "metadata": {},
   "source": [
    "Returns four columns, and the number of rows depend on the number of classes of target (for this example, 0 & 1) but the last 3 rows are always there in classification_report\n",
    "\n",
    "Each term measures something different:\n",
    "- precision: indicates the proportion of positive identifications (class= 1) which were actually corrrect. no false positive prediction means precision of 1.0, average of the coumns in the confusion matrix, i.e., 0.86=24/(24+4)---true negative and 0.85=28/(5+28)---true positive\n",
    "- recall: the proportion of actual positives which were correctly classified. no false negatives means recall of 1.0, i.e., 0.83=24/(24+5) & 0.88=28/(28+4)\n",
    "- F1 score: combination of the above 2. perfect model has F1 score of 1.0, i.e., the average of precision and recall\n",
    "- Support: number of samples each metric was calculated on, number of samples with truth values of 0 and 1\n",
    "- accuracy: if equal to 1.0, means perfect prediction, average of F1-score\n",
    "- macro avg: macro average, the average precision, recall and F1 score between classes.doesn't take class imbalance in effect\n",
    "- weighted avg: weighted average of precision, recall and F1 score between classes. weighted means nmber of samples in each class is used to calculate the average. so favors the majority class\n",
    "\n",
    "\n",
    "used where precision, F1 score and recall are needed to express prediction efficiency"
   ]
  },
  {
   "cell_type": "code",
   "execution_count": 23,
   "id": "34b67fd8-abd8-4cc1-b691-f359a408359c",
   "metadata": {},
   "outputs": [
    {
     "data": {
      "text/html": [
       "<div>\n",
       "<style scoped>\n",
       "    .dataframe tbody tr th:only-of-type {\n",
       "        vertical-align: middle;\n",
       "    }\n",
       "\n",
       "    .dataframe tbody tr th {\n",
       "        vertical-align: top;\n",
       "    }\n",
       "\n",
       "    .dataframe thead th {\n",
       "        text-align: right;\n",
       "    }\n",
       "</style>\n",
       "<table border=\"1\" class=\"dataframe\">\n",
       "  <thead>\n",
       "    <tr style=\"text-align: right;\">\n",
       "      <th></th>\n",
       "      <th>0.0</th>\n",
       "      <th>1.0</th>\n",
       "      <th>accuracy</th>\n",
       "      <th>macro avg</th>\n",
       "      <th>weighted avg</th>\n",
       "    </tr>\n",
       "  </thead>\n",
       "  <tbody>\n",
       "    <tr>\n",
       "      <th>precision</th>\n",
       "      <td>0.99990</td>\n",
       "      <td>0.0</td>\n",
       "      <td>0.9999</td>\n",
       "      <td>0.499950</td>\n",
       "      <td>0.99980</td>\n",
       "    </tr>\n",
       "    <tr>\n",
       "      <th>recall</th>\n",
       "      <td>1.00000</td>\n",
       "      <td>0.0</td>\n",
       "      <td>0.9999</td>\n",
       "      <td>0.500000</td>\n",
       "      <td>0.99990</td>\n",
       "    </tr>\n",
       "    <tr>\n",
       "      <th>f1-score</th>\n",
       "      <td>0.99995</td>\n",
       "      <td>0.0</td>\n",
       "      <td>0.9999</td>\n",
       "      <td>0.499975</td>\n",
       "      <td>0.99985</td>\n",
       "    </tr>\n",
       "    <tr>\n",
       "      <th>support</th>\n",
       "      <td>9999.00000</td>\n",
       "      <td>1.0</td>\n",
       "      <td>0.9999</td>\n",
       "      <td>10000.000000</td>\n",
       "      <td>10000.00000</td>\n",
       "    </tr>\n",
       "  </tbody>\n",
       "</table>\n",
       "</div>"
      ],
      "text/plain": [
       "                  0.0  1.0  accuracy     macro avg  weighted avg\n",
       "precision     0.99990  0.0    0.9999      0.499950       0.99980\n",
       "recall        1.00000  0.0    0.9999      0.500000       0.99990\n",
       "f1-score      0.99995  0.0    0.9999      0.499975       0.99985\n",
       "support    9999.00000  1.0    0.9999  10000.000000   10000.00000"
      ]
     },
     "execution_count": 23,
     "metadata": {},
     "output_type": "execute_result"
    }
   ],
   "source": [
    "disease_true= np.zeros(10000)\n",
    "disease_true[0]= 1 # only 1 case is present(patient)\n",
    "disease_preds= np.zeros(10000)  # every prediction is 0\n",
    "pd.DataFrame(classification_report(disease_true, disease_preds,\n",
    "                                  output_dict= True, zero_division= 0))"
   ]
  },
  {
   "cell_type": "markdown",
   "id": "8f6ecc74-f991-4eb6-ba69-8dda8fd1bbc6",
   "metadata": {},
   "source": [
    "Summary:\n",
    "- accuracy is usefull when the classes are balanced\n",
    "- precision and recall are more usefull when the classes are imbalanced\n",
    "- if false positive predictions are worse than false negatives, aim for higher precision, otherwise aim for higher recall"
   ]
  },
  {
   "cell_type": "markdown",
   "id": "e359c29e-515e-47b1-bfb4-3c052f1ada0a",
   "metadata": {},
   "source": [
    "##### 4.2.2 Regression model evaluation metrics\n",
    "- `R^2 or coefficient of determination`: compares model predictions to the mean of the target, values range from -ve infinity (very poor model) to 1.if model doesn't predict the mean of the target, R^2 would be 0. if it perfectly predicts the mean of the target, then R^2 value becomes 1.\n",
    "- `Mean absolute error(MAE)`: average of absolute differences between predictions and actual values. gives idea about how the predictions are wrong\n",
    "- `Mean square error(MSE)`: average squared differences between predictions and actual values. no negative errors. amplifies outliers(samples with large errors)"
   ]
  },
  {
   "cell_type": "code",
   "execution_count": 24,
   "id": "ed7d9c04-17dc-4eb4-a3a4-8d35d1391d49",
   "metadata": {},
   "outputs": [
    {
     "data": {
      "text/plain": [
       "RandomForestRegressor()"
      ]
     },
     "execution_count": 24,
     "metadata": {},
     "output_type": "execute_result"
    }
   ],
   "source": [
    "from sklearn.ensemble import RandomForestRegressor\n",
    "np.random.seed(42)\n",
    "X= h_df.drop(\"target\", axis= 1)\n",
    "y= h_df[\"target\"]\n",
    "\n",
    "X_train, X_test, y_train, y_test= train_test_split(X, y, test_size= 0.2)\n",
    "\n",
    "model= RandomForestRegressor()\n",
    "model.fit(X_train, y_train)"
   ]
  },
  {
   "cell_type": "markdown",
   "id": "92b1578b-f580-406f-bdf2-2bb78f53029b",
   "metadata": {},
   "source": [
    "###### R^2 score (coefficient of determination)"
   ]
  },
  {
   "cell_type": "code",
   "execution_count": 25,
   "id": "a0f1d19e-f8a0-40fd-9c6d-ab4d4ea65f61",
   "metadata": {},
   "outputs": [
    {
     "data": {
      "text/plain": [
       "0.8065734772187598"
      ]
     },
     "execution_count": 25,
     "metadata": {},
     "output_type": "execute_result"
    }
   ],
   "source": [
    "model.score(X_test, y_test)"
   ]
  },
  {
   "cell_type": "code",
   "execution_count": 26,
   "id": "74c4cb28-ded1-4f3a-a9c8-23c86926015b",
   "metadata": {},
   "outputs": [
    {
     "data": {
      "text/plain": [
       "0.8065734772187598"
      ]
     },
     "execution_count": 26,
     "metadata": {},
     "output_type": "execute_result"
    }
   ],
   "source": [
    "# outside score() function\n",
    "from sklearn.metrics import r2_score\n",
    "# fill an array with y_test mean\n",
    "# y_test_mean= np.full(len(y_test), y_test.mean())\n",
    "y_preds= model.predict(X_test)\n",
    "r2_score(y_test, y_preds)"
   ]
  },
  {
   "cell_type": "markdown",
   "id": "3655a120-c682-44c5-b14e-fb30449fcedd",
   "metadata": {},
   "source": [
    "###### Mean absolute error (MAE)"
   ]
  },
  {
   "cell_type": "code",
   "execution_count": 27,
   "id": "569bd187-50dc-40f1-8f20-5e97bc3830f5",
   "metadata": {},
   "outputs": [
    {
     "data": {
      "text/plain": [
       "0.32659871732073664"
      ]
     },
     "execution_count": 27,
     "metadata": {},
     "output_type": "execute_result"
    }
   ],
   "source": [
    "from sklearn.metrics import mean_absolute_error\n",
    "y_preds= model.predict(X_test)\n",
    "mean_absolute_error(y_test, y_preds)"
   ]
  },
  {
   "cell_type": "code",
   "execution_count": 28,
   "id": "c97da8e2-6718-49ed-a6e1-9382adc3b0c1",
   "metadata": {},
   "outputs": [
    {
     "data": {
      "text/html": [
       "<div>\n",
       "<style scoped>\n",
       "    .dataframe tbody tr th:only-of-type {\n",
       "        vertical-align: middle;\n",
       "    }\n",
       "\n",
       "    .dataframe tbody tr th {\n",
       "        vertical-align: top;\n",
       "    }\n",
       "\n",
       "    .dataframe thead th {\n",
       "        text-align: right;\n",
       "    }\n",
       "</style>\n",
       "<table border=\"1\" class=\"dataframe\">\n",
       "  <thead>\n",
       "    <tr style=\"text-align: right;\">\n",
       "      <th></th>\n",
       "      <th>actual values:</th>\n",
       "      <th>predicted values:</th>\n",
       "    </tr>\n",
       "  </thead>\n",
       "  <tbody>\n",
       "    <tr>\n",
       "      <th>20046</th>\n",
       "      <td>0.47700</td>\n",
       "      <td>0.493840</td>\n",
       "    </tr>\n",
       "    <tr>\n",
       "      <th>3024</th>\n",
       "      <td>0.45800</td>\n",
       "      <td>0.754940</td>\n",
       "    </tr>\n",
       "    <tr>\n",
       "      <th>15663</th>\n",
       "      <td>5.00001</td>\n",
       "      <td>4.928596</td>\n",
       "    </tr>\n",
       "    <tr>\n",
       "      <th>20484</th>\n",
       "      <td>2.18600</td>\n",
       "      <td>2.543160</td>\n",
       "    </tr>\n",
       "    <tr>\n",
       "      <th>9814</th>\n",
       "      <td>2.78000</td>\n",
       "      <td>2.331760</td>\n",
       "    </tr>\n",
       "    <tr>\n",
       "      <th>...</th>\n",
       "      <td>...</td>\n",
       "      <td>...</td>\n",
       "    </tr>\n",
       "    <tr>\n",
       "      <th>15362</th>\n",
       "      <td>2.63300</td>\n",
       "      <td>2.220380</td>\n",
       "    </tr>\n",
       "    <tr>\n",
       "      <th>16623</th>\n",
       "      <td>2.66800</td>\n",
       "      <td>1.947760</td>\n",
       "    </tr>\n",
       "    <tr>\n",
       "      <th>18086</th>\n",
       "      <td>5.00001</td>\n",
       "      <td>4.836378</td>\n",
       "    </tr>\n",
       "    <tr>\n",
       "      <th>2144</th>\n",
       "      <td>0.72300</td>\n",
       "      <td>0.717820</td>\n",
       "    </tr>\n",
       "    <tr>\n",
       "      <th>3665</th>\n",
       "      <td>1.51500</td>\n",
       "      <td>1.679010</td>\n",
       "    </tr>\n",
       "  </tbody>\n",
       "</table>\n",
       "<p>4128 rows × 2 columns</p>\n",
       "</div>"
      ],
      "text/plain": [
       "       actual values:  predicted values:\n",
       "20046         0.47700           0.493840\n",
       "3024          0.45800           0.754940\n",
       "15663         5.00001           4.928596\n",
       "20484         2.18600           2.543160\n",
       "9814          2.78000           2.331760\n",
       "...               ...                ...\n",
       "15362         2.63300           2.220380\n",
       "16623         2.66800           1.947760\n",
       "18086         5.00001           4.836378\n",
       "2144          0.72300           0.717820\n",
       "3665          1.51500           1.679010\n",
       "\n",
       "[4128 rows x 2 columns]"
      ]
     },
     "execution_count": 28,
     "metadata": {},
     "output_type": "execute_result"
    }
   ],
   "source": [
    "df= pd.DataFrame(data= {\"actual values:\": y_test,\n",
    "                    \"predicted values:\": y_preds})\n",
    "df"
   ]
  },
  {
   "cell_type": "code",
   "execution_count": 29,
   "id": "a36fcc41-845c-4e80-8fab-a759a78cf664",
   "metadata": {},
   "outputs": [
    {
     "data": {
      "text/plain": [
       "<matplotlib.legend.Legend at 0x2e7b173c760>"
      ]
     },
     "execution_count": 29,
     "metadata": {},
     "output_type": "execute_result"
    },
    {
     "data": {
      "image/png": "[encoded data removed]",
      "text/plain": [
       "<Figure size 432x288 with 1 Axes>"
      ]
     },
     "metadata": {
      "needs_background": "light"
     },
     "output_type": "display_data"
    }
   ],
   "source": [
    "fig, ax= plt.subplots()\n",
    "x= np.arange(0, len(df), 1)\n",
    "ax.scatter(x, df[\"actual values:\"], c='b', label= \"actual values\")\n",
    "ax.scatter(x, df[\"predicted values:\"], c= 'r', label= \"predictions\")\n",
    "ax.legend(loc= (1, 0.5))"
   ]
  },
  {
   "cell_type": "markdown",
   "id": "a07e4851-9147-4153-a77b-97d50d7f097e",
   "metadata": {},
   "source": [
    "###### Mean squared error(MSE)"
   ]
  },
  {
   "cell_type": "code",
   "execution_count": 30,
   "id": "ef77b959-c42e-406c-a7ae-ddef697d412e",
   "metadata": {},
   "outputs": [
    {
     "data": {
      "text/plain": [
       "0.2534678520824551"
      ]
     },
     "execution_count": 30,
     "metadata": {},
     "output_type": "execute_result"
    }
   ],
   "source": [
    "from sklearn.metrics import mean_squared_error\n",
    "mse= mean_squared_error(y_test, y_preds)\n",
    "mse"
   ]
  },
  {
   "cell_type": "markdown",
   "id": "83d4b89c-c8a5-4971-956d-caf02b8b5a40",
   "metadata": {},
   "source": [
    "Summary:\n",
    "- R^2 is similar to accuracy, gives quick indication of how well the model is doing, closer to 1 means the better the model\n",
    "- MAE gives a better indication of how far off each of the model's predictions are on average"
   ]
  },
  {
   "cell_type": "markdown",
   "id": "a5a40885-d097-4193-a724-3714acb570d3",
   "metadata": {},
   "source": [
    "##### 4.2.3 Using scoring parameters\n",
    "used to tell Scikit-Learn what evaluation metric to return using cross-validation"
   ]
  },
  {
   "cell_type": "code",
   "execution_count": 31,
   "id": "87bfc922-21f1-449e-a831-e39e4816b138",
   "metadata": {},
   "outputs": [],
   "source": [
    "# classification model\n",
    "from sklearn.model_selection import cross_val_score\n",
    "from sklearn.ensemble import RandomForestClassifier\n",
    "np.random.seed(42)\n",
    "X= hd.drop(\"target\", axis= 1)\n",
    "y= hd[\"target\"]\n",
    "X_train, X_test, y_train, y_test= train_test_split(X, y, test_size=0.2)\n",
    "clf= RandomForestClassifier(n_estimators= 100)\n",
    "#clf.fit(X_train, y_train)"
   ]
  },
  {
   "cell_type": "code",
   "execution_count": 32,
   "id": "3e5dd088-3ce3-4821-a141-58cf3fb3e993",
   "metadata": {},
   "outputs": [
    {
     "data": {
      "text/plain": [
       "array([0.81967213, 0.90163934, 0.83606557, 0.78333333, 0.78333333])"
      ]
     },
     "execution_count": 32,
     "metadata": {},
     "output_type": "execute_result"
    }
   ],
   "source": [
    "# default, mean accuracy\n",
    "np.random.seed(42)\n",
    "cv_acc = cross_val_score(clf, X, y, cv=5)\n",
    "cv_acc"
   ]
  },
  {
   "cell_type": "code",
   "execution_count": 33,
   "id": "55d12659-7134-4883-a531-4822d089b4e3",
   "metadata": {},
   "outputs": [
    {
     "name": "stdout",
     "output_type": "stream",
     "text": [
      "The cross-validated accuracy is: 82.48%\n"
     ]
    }
   ],
   "source": [
    "# average of cross-validation array values\n",
    "print(f\"The cross-validated accuracy is: {np.mean(cv_acc)*100:.2f}%\")"
   ]
  },
  {
   "cell_type": "code",
   "execution_count": 34,
   "id": "f95eeaf8-8466-4a01-b880-a72fe185a22d",
   "metadata": {},
   "outputs": [
    {
     "name": "stdout",
     "output_type": "stream",
     "text": [
      "The cross-validated accuracy is: 82.48%\n"
     ]
    }
   ],
   "source": [
    "# using scoring parameter\n",
    "np.random.seed(42)\n",
    "cv_acc= cross_val_score(clf, X, y, cv= 5, scoring=\"accuracy\")\n",
    "print(f\"The cross-validated accuracy is: {np.mean(cv_acc)*100:.2f}%\")"
   ]
  },
  {
   "cell_type": "markdown",
   "id": "51725c34-c1b5-4cc8-9552-3fa7d05743a1",
   "metadata": {},
   "source": [
    "Other metrics"
   ]
  },
  {
   "cell_type": "code",
   "execution_count": 35,
   "id": "1a6e96e2-77ec-4db9-9ece-8725e985a333",
   "metadata": {},
   "outputs": [
    {
     "name": "stdout",
     "output_type": "stream",
     "text": [
      "The cross-validated precision is: 83.30\n"
     ]
    }
   ],
   "source": [
    "# Precision\n",
    "np.random.seed(42)\n",
    "cv_prec= cross_val_score(clf, X, y, cv= 5, scoring= \"precision\")\n",
    "print(f\"The cross-validated precision is: {np.mean(cv_prec)*100:.2f}\")"
   ]
  },
  {
   "cell_type": "code",
   "execution_count": 36,
   "id": "38fda136-9dc3-494c-b3da-8984135b9598",
   "metadata": {},
   "outputs": [
    {
     "name": "stdout",
     "output_type": "stream",
     "text": [
      "The cross-validated recall is: 85.45%\n"
     ]
    }
   ],
   "source": [
    "# recall\n",
    "np.random.seed(42)\n",
    "cv_recall= cross_val_score(clf, X, y, cv= 5, scoring= \"recall\")\n",
    "print(f\"The cross-validated recall is: {np.mean(cv_recall)*100:.2f}%\")"
   ]
  },
  {
   "cell_type": "code",
   "execution_count": 37,
   "id": "977c019d-da2e-424d-817b-cc6edb093dea",
   "metadata": {},
   "outputs": [
    {
     "name": "stdout",
     "output_type": "stream",
     "text": [
      "The cross-validated F1-score is: 84.27%\n"
     ]
    }
   ],
   "source": [
    "# F1-score\n",
    "np.random.seed(42)\n",
    "cv_f1score= cross_val_score(clf, X, y, cv=5, scoring= \"f1\")\n",
    "print(f\"The cross-validated F1-score is: {np.mean(cv_f1score)*100:.2f}%\")"
   ]
  },
  {
   "cell_type": "code",
   "execution_count": 38,
   "id": "149c029d-84b4-449c-99df-26000a0d3378",
   "metadata": {},
   "outputs": [
    {
     "data": {
      "text/plain": [
       "RandomForestRegressor()"
      ]
     },
     "execution_count": 38,
     "metadata": {},
     "output_type": "execute_result"
    }
   ],
   "source": [
    "# regression model\n",
    "from sklearn.model_selection import cross_val_score\n",
    "from sklearn.ensemble import RandomForestRegressor\n",
    "np.random.seed(42)\n",
    "X = h_df.drop(\"target\", axis=1)\n",
    "y = h_df[\"target\"]\n",
    "#X_train, X_test, y_train, y_test= train_test_split(X, y, test_size=0.2)\n",
    "model= RandomForestRegressor(n_estimators= 100)\n",
    "model"
   ]
  },
  {
   "cell_type": "code",
   "execution_count": 39,
   "id": "5f7a6ca3-9fb8-49aa-af77-7afc2f52f386",
   "metadata": {},
   "outputs": [
    {
     "name": "stdout",
     "output_type": "stream",
     "text": [
      "The cross-validated r^2 is: 0.65\n"
     ]
    }
   ],
   "source": [
    "# r^2 ---- default\n",
    "np.random.seed(42)\n",
    "cv_r2= cross_val_score(model, X, y, cv= 5, scoring= \"r2\")\n",
    "print(f\"The cross-validated r^2 is: {np.mean(cv_r2):.2f}\")"
   ]
  },
  {
   "cell_type": "code",
   "execution_count": 40,
   "id": "21cc2c81-ec9c-4a09-a078-d3d040befc81",
   "metadata": {},
   "outputs": [
    {
     "name": "stdout",
     "output_type": "stream",
     "text": [
      "The cross-validated MAE is: -0.47.\n"
     ]
    }
   ],
   "source": [
    "# MAE using neg_mean_absolute_error\n",
    "np.random.seed(42)\n",
    "cv_mae= cross_val_score(model, X, y, cv= 5, scoring= \"neg_mean_absolute_error\")\n",
    "print(f\"The cross-validated MAE is: {np.mean(cv_mae):.2f}.\")"
   ]
  },
  {
   "cell_type": "code",
   "execution_count": 41,
   "id": "6e05a733-3c9f-48b1-be8c-a0e60a0be6cb",
   "metadata": {},
   "outputs": [
    {
     "name": "stdout",
     "output_type": "stream",
     "text": [
      "The cross-validated MSE is: -0.43.\n"
     ]
    }
   ],
   "source": [
    "# MSE using neg_mean_squared_error\n",
    "np.random.seed(42)\n",
    "cv_mse= cross_val_score(model, X, y, cv= 5, scoring=\"neg_mean_squared_error\")\n",
    "print(f\"The cross-validated MSE is: {np.mean(cv_mse):.2f}.\")"
   ]
  },
  {
   "cell_type": "markdown",
   "id": "f2d1fc6f-c395-4ce6-b89e-9e0dde3aad06",
   "metadata": {},
   "source": [
    "4.3 Using different evaluation metrics with Scikit-Learn ---- `problem specific metric functions`\n",
    "They work by comparing an array of predicted values, y_preds, to actual array of actual labels, y_test.\n",
    "\n",
    "Classification functions used for:\n",
    "- accuracy, use accuracy_score()\n",
    "- precision, use precision_score()\n",
    "- recall, use recall_score()\n",
    "- F1, use f1_score()"
   ]
  },
  {
   "cell_type": "code",
   "execution_count": 42,
   "id": "14d372d7-8c09-4a82-9677-28003c217542",
   "metadata": {},
   "outputs": [
    {
     "name": "stdout",
     "output_type": "stream",
     "text": [
      "Accuracy: 85.25%\n",
      "Precision: 84.85%\n",
      "Recall: 87.50%\n",
      "F1-score: 86.15%\n"
     ]
    }
   ],
   "source": [
    "from sklearn.metrics import accuracy_score, precision_score, recall_score, f1_score\n",
    "from sklearn.ensemble import RandomForestClassifier\n",
    "np.random.seed(42)\n",
    "X= hd.drop(\"target\", axis= 1)\n",
    "y= hd[\"target\"]\n",
    "X_train, X_test, y_train, y_test= train_test_split(X, y, test_size= 0.2)\n",
    "clf= RandomForestClassifier(n_estimators= 100)\n",
    "clf.fit(X_train, y_train)\n",
    "\n",
    "y_preds = clf.predict(X_test)\n",
    "# Evaluation\n",
    "print(f\"Accuracy: {accuracy_score(y_test, y_preds)*100:.2f}%\")\n",
    "print(f\"Precision: {precision_score(y_test, y_preds)*100:.2f}%\")\n",
    "print(f\"Recall: {recall_score(y_test, y_preds)*100:.2f}%\")\n",
    "print(f\"F1-score: {f1_score(y_test, y_preds)*100:.2f}%\")"
   ]
  },
  {
   "cell_type": "markdown",
   "id": "a3a4c439-36ce-4e5b-be7b-67859c7628e2",
   "metadata": {},
   "source": [
    "Regression functions used for:\n",
    "- R^2, use r2_score()\n",
    "- MAE, use mean_absolute_error()\n",
    "- MSE, use mean_squared_error()"
   ]
  },
  {
   "cell_type": "code",
   "execution_count": 43,
   "id": "bf8d142b-fc51-4d4d-99db-29607fc11bb7",
   "metadata": {},
   "outputs": [
    {
     "name": "stdout",
     "output_type": "stream",
     "text": [
      "R^2: 0.81\n",
      "MAE: 0.33\n",
      "MSE: 0.25\n"
     ]
    }
   ],
   "source": [
    "from sklearn.metrics import r2_score, mean_absolute_error, mean_squared_error\n",
    "from sklearn.ensemble import RandomForestRegressor\n",
    "\n",
    "np.random.seed(42)\n",
    "X= h_df.drop(\"target\", axis= 1)\n",
    "y= h_df[\"target\"]\n",
    "\n",
    "X_train, X_test, y_train, y_test= train_test_split(X, y, test_size= 0.2)\n",
    "model= RandomForestRegressor(n_estimators= 100)\n",
    "model.fit(X_train, y_train)\n",
    "y_preds= model.predict(X_test)\n",
    "# evaluate\n",
    "print(f\"R^2: {r2_score(y_test, y_preds):.2f}\")\n",
    "print(f\"MAE: {mean_absolute_error(y_test, y_preds):.2f}\")\n",
    "print(f\"MSE: {mean_squared_error(y_test, y_preds):.2f}\")"
   ]
  },
  {
   "cell_type": "code",
   "execution_count": null,
   "id": "b61ea355-efe1-44f8-823f-d6b70535d535",
   "metadata": {},
   "outputs": [],
   "source": []
  }
 ],
 "metadata": {
  "kernelspec": {
   "display_name": "Python 3 (ipykernel)",
   "language": "python",
   "name": "python3"
  },
  "language_info": {
   "codemirror_mode": {
    "name": "ipython",
    "version": 3
   },
   "file_extension": ".py",
   "mimetype": "text/x-python",
   "name": "python",
   "nbconvert_exporter": "python",
   "pygments_lexer": "ipython3",
   "version": "3.9.12"
  },
  "widgets": {
   "application/vnd.jupyter.widget-state+json": {
    "state": {},
    "version_major": 2,
    "version_minor": 0
   }
  }
 },
 "nbformat": 4,
 "nbformat_minor": 5
}
